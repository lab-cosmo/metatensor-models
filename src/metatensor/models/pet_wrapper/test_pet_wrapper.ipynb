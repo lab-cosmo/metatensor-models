{
 "cells": [
  {
   "cell_type": "code",
   "execution_count": 1,
   "id": "d4826a8a",
   "metadata": {},
   "outputs": [],
   "source": [
    "from torch_geometric.data import Data, Batch\n",
    "\n",
    "from pet.pet import PET\n",
    "from pet.hypers import load_hypers_from_file\n",
    "from pet.data_preparation import get_all_species\n",
    "from pet.molecule import Molecule, batch_to_dict\n",
    "import torch\n",
    "import ase.io\n",
    "\n",
    "from metatensor.torch import Labels, TensorBlock, TensorMap\n",
    "from metatensor.torch.atomistic import (\n",
    "    MetatensorAtomisticModel,\n",
    "    ModelCapabilities,\n",
    "    NeighborsListOptions,\n",
    "    ModelOutput,\n",
    "    System,\n",
    ")\n",
    "\n",
    "import numpy as np\n",
    "\n",
    "from pet_wrapper import PETMetatensorWrapper"
   ]
  },
  {
   "cell_type": "markdown",
   "id": "1c0051ba",
   "metadata": {},
   "source": [
    "# native PET prediction"
   ]
  },
  {
   "cell_type": "code",
   "execution_count": 2,
   "id": "b35f6145",
   "metadata": {},
   "outputs": [],
   "source": [
    "hypers = load_hypers_from_file('../pet/default_hypers/default_hypers.yaml')\n",
    "\n",
    "FITTING_SCHEME = hypers.FITTING_SCHEME\n",
    "ARCHITECTURAL_HYPERS = hypers.ARCHITECTURAL_HYPERS\n",
    "ARCHITECTURAL_HYPERS.D_OUTPUT = 1\n",
    "ARCHITECTURAL_HYPERS.TARGET_TYPE = 'structural'\n",
    "ARCHITECTURAL_HYPERS.TARGET_AGGREGATION = 'sum'\n",
    "\n",
    "model = PET(ARCHITECTURAL_HYPERS, 0.0, 2).to('cpu')"
   ]
  },
  {
   "cell_type": "code",
   "execution_count": 3,
   "id": "9b2302ba",
   "metadata": {},
   "outputs": [
    {
     "name": "stdout",
     "output_type": "stream",
     "text": [
      "tensor([[-2.3753]], grad_fn=<ScatterAddBackward0>)\n"
     ]
    }
   ],
   "source": [
    "structure = ase.io.read('../pet/example/methane_train.xyz', index = 0)\n",
    "\n",
    "molecule = Molecule(structure, ARCHITECTURAL_HYPERS.R_CUT, \n",
    "                            ARCHITECTURAL_HYPERS.USE_ADDITIONAL_SCALAR_ATTRIBUTES,\n",
    "                            ARCHITECTURAL_HYPERS.USE_LONG_RANGE, ARCHITECTURAL_HYPERS.K_CUT)\n",
    "        \n",
    "graph = molecule.get_graph(molecule.get_max_num(), get_all_species([structure]), molecule.get_num_k())\n",
    "batch = Batch.from_data_list([graph])\n",
    "prediction = model(batch_to_dict(batch))\n",
    "#print(batch_to_dict(batch))\n",
    "print(prediction)"
   ]
  },
  {
   "cell_type": "markdown",
   "id": "28b8842c",
   "metadata": {},
   "source": [
    "# PETMetatensorWrapper prediction"
   ]
  },
  {
   "cell_type": "code",
   "execution_count": 4,
   "id": "7bc96216",
   "metadata": {},
   "outputs": [
    {
     "name": "stdout",
     "output_type": "stream",
     "text": [
      "Atoms(symbols='CH4', pbc=False, forces=..., calculator=SinglePointCalculator(...))\n"
     ]
    }
   ],
   "source": [
    "from metatensor.torch.atomistic.ase_calculator import _compute_ase_neighbors\n",
    "\n",
    "structure = ase.io.read('../pet/example/methane_train.xyz', index = 0)\n",
    "print(structure)\n",
    "system = System(species = torch.IntTensor(structure.get_atomic_numbers()),\n",
    "                positions = torch.FloatTensor(structure.positions),\n",
    "                cell = torch.zeros(3, 3, dtype = torch.float32))\n",
    "\n",
    "options = NeighborsListOptions(model_cutoff=ARCHITECTURAL_HYPERS.R_CUT, full_list=True)\n",
    "\n",
    "system.add_neighbors_list(options, _compute_ase_neighbors(structure, options).to(torch.float32))\n"
   ]
  },
  {
   "cell_type": "code",
   "execution_count": 5,
   "id": "bbbc1545",
   "metadata": {},
   "outputs": [
    {
     "name": "stdout",
     "output_type": "stream",
     "text": [
      "tensor([[-2.3753]], grad_fn=<ScatterAddBackward0>)\n"
     ]
    }
   ],
   "source": [
    "all_species = np.array([1, 6], dtype = int) # Hydrogen, Carbon\n",
    "wrapped_model = PETMetatensorWrapper(model, all_species)\n",
    "print(wrapped_model([system]))"
   ]
  },
  {
   "cell_type": "code",
   "execution_count": null,
   "id": "59cc7622",
   "metadata": {},
   "outputs": [],
   "source": []
  },
  {
   "cell_type": "code",
   "execution_count": null,
   "id": "7b7737c8",
   "metadata": {},
   "outputs": [],
   "source": []
  },
  {
   "cell_type": "code",
   "execution_count": null,
   "id": "eeed958b",
   "metadata": {},
   "outputs": [],
   "source": []
  },
  {
   "cell_type": "code",
   "execution_count": null,
   "id": "204ae005",
   "metadata": {},
   "outputs": [],
   "source": []
  }
 ],
 "metadata": {
  "kernelspec": {
   "display_name": "Python 3 (ipykernel)",
   "language": "python",
   "name": "python3"
  },
  "language_info": {
   "codemirror_mode": {
    "name": "ipython",
    "version": 3
   },
   "file_extension": ".py",
   "mimetype": "text/x-python",
   "name": "python",
   "nbconvert_exporter": "python",
   "pygments_lexer": "ipython3",
   "version": "3.11.6"
  }
 },
 "nbformat": 4,
 "nbformat_minor": 5
}
