{
 "cells": [
  {
   "cell_type": "code",
   "execution_count": 1,
   "metadata": {},
   "outputs": [],
   "source": [
    "from typing import List, Union\n",
    "\n",
    "import torch\n",
    "from metatensor.learn.data.dataset import _BaseDataset\n",
    "from metatensor.torch import Labels, TensorBlock\n",
    "from metatensor.torch.atomistic import (\n",
    "    NeighborsListOptions,\n",
    "    System,\n",
    "    register_autograd_neighbors,\n",
    ")\n",
    "from rascaline.torch import NeighborList\n",
    "\n",
    "\n",
    "REQUIRED_NL_SAMPLES = [\n",
    "    \"first_atom\",\n",
    "    \"second_atom\",\n",
    "    \"cell_shift_a\",\n",
    "    \"cell_shift_b\",\n",
    "    \"cell_shift_c\",\n",
    "]"
   ]
  },
  {
   "cell_type": "code",
   "execution_count": 2,
   "metadata": {},
   "outputs": [],
   "source": [
    "def get_rascaline_neighbors_list(\n",
    "    systems: Union[System, List[System]], options: NeighborsListOptions\n",
    ") -> Union[TensorBlock, List[TensorBlock]]:\n",
    "    \"\"\"\n",
    "    Calculates the neighborlist for a given system using\n",
    "    rascaline.NeghborList calculator. Additionally, it registers\n",
    "    the neighborlist for torch autograd.\n",
    "\n",
    "    :param systems: A single systems or a list systems.\n",
    "    :param options: A NeighborsListOptions object.\n",
    "\n",
    "    :return: A TensorBlock or a list of TensorBlocks containing neigborlists\n",
    "    information.\n",
    "    \"\"\"\n",
    "\n",
    "    if not isinstance(systems, list):\n",
    "        systems = [systems]\n",
    "    nl_calculator = NeighborList(cutoff=5.0, full_neighbor_list=True)\n",
    "    nl_list = []\n",
    "    for system in systems:\n",
    "        nl_tmap = nl_calculator.compute(system)\n",
    "        tmp_nl = nl_tmap.keys_to_samples(nl_tmap.keys.names).block()\n",
    "        required_indices = []\n",
    "        for i in range(len(tmp_nl.samples.names)):\n",
    "            if tmp_nl.samples.names[i] in REQUIRED_NL_SAMPLES:\n",
    "                required_indices.append(i)\n",
    "        samples = Labels(\n",
    "            names=REQUIRED_NL_SAMPLES, values=tmp_nl.samples.values[:, required_indices]\n",
    "        )\n",
    "        components = Labels(names=[\"xyz\"], values=tmp_nl.components[0].values)\n",
    "        properties = Labels(\n",
    "            names=tmp_nl.properties.names,\n",
    "            values=torch.zeros_like(tmp_nl.properties.values),\n",
    "        )\n",
    "        nl = TensorBlock(\n",
    "            samples=samples,\n",
    "            components=[components],\n",
    "            properties=properties,\n",
    "            values=tmp_nl.values,\n",
    "        )\n",
    "        nl_list.append(nl)\n",
    "    if len(nl_list) == 1:\n",
    "        return nl_list[0]\n",
    "    else:\n",
    "        return nl_list"
   ]
  },
  {
   "cell_type": "code",
   "execution_count": 6,
   "metadata": {},
   "outputs": [],
   "source": [
    "nl_calculator = NeighborList(\n",
    "        cutoff=5.0, full_neighbor_list=True\n",
    "    )"
   ]
  },
  {
   "cell_type": "code",
   "execution_count": 7,
   "metadata": {},
   "outputs": [
    {
     "data": {
      "text/plain": [
       "RecursiveScriptModule(original_name=NeighborList)"
      ]
     },
     "execution_count": 7,
     "metadata": {},
     "output_type": "execute_result"
    }
   ],
   "source": [
    "torch.jit.script(nl_calculator)"
   ]
  },
  {
   "cell_type": "code",
   "execution_count": 5,
   "metadata": {},
   "outputs": [],
   "source": [
    "def test_rascaline_nl_torch_script():\n",
    "    nl_calculator = NeighborList(\n",
    "            cutoff=5.0, full_neighbor_list=True\n",
    "    )"
   ]
  },
  {
   "cell_type": "code",
   "execution_count": 6,
   "metadata": {},
   "outputs": [
    {
     "ename": "FrontendError",
     "evalue": "Cannot instantiate class 'NeighborList' in a script function:\n  File \"/var/folders/0v/zgrhvkh12xz59z8f0vwvj86c0000gn/T/ipykernel_42824/109602194.py\", line 2\ndef test_rascaline_nl_torch_script():\n    nl_calculator = NeighborList(\n                    ~~~~~~~~~~~~ <--- HERE\n            cutoff=5.0, full_neighbor_list=True\n    )\n",
     "output_type": "error",
     "traceback": [
      "\u001b[0;31m---------------------------------------------------------------------------\u001b[0m",
      "\u001b[0;31mFrontendError\u001b[0m                             Traceback (most recent call last)",
      "Cell \u001b[0;32mIn[6], line 1\u001b[0m\n\u001b[0;32m----> 1\u001b[0m \u001b[43mtorch\u001b[49m\u001b[38;5;241;43m.\u001b[39;49m\u001b[43mjit\u001b[49m\u001b[38;5;241;43m.\u001b[39;49m\u001b[43mscript\u001b[49m\u001b[43m(\u001b[49m\u001b[43mtest_rascaline_nl_torch_script\u001b[49m\u001b[43m)\u001b[49m\n",
      "File \u001b[0;32m~/miniforge3/envs/metatensor-models/lib/python3.10/site-packages/torch/jit/_script.py:1395\u001b[0m, in \u001b[0;36mscript\u001b[0;34m(obj, optimize, _frames_up, _rcb, example_inputs)\u001b[0m\n\u001b[1;32m   1393\u001b[0m \u001b[38;5;28;01mif\u001b[39;00m _rcb \u001b[38;5;129;01mis\u001b[39;00m \u001b[38;5;28;01mNone\u001b[39;00m:\n\u001b[1;32m   1394\u001b[0m     _rcb \u001b[38;5;241m=\u001b[39m _jit_internal\u001b[38;5;241m.\u001b[39mcreateResolutionCallbackFromClosure(obj)\n\u001b[0;32m-> 1395\u001b[0m fn \u001b[38;5;241m=\u001b[39m \u001b[43mtorch\u001b[49m\u001b[38;5;241;43m.\u001b[39;49m\u001b[43m_C\u001b[49m\u001b[38;5;241;43m.\u001b[39;49m\u001b[43m_jit_script_compile\u001b[49m\u001b[43m(\u001b[49m\n\u001b[1;32m   1396\u001b[0m \u001b[43m    \u001b[49m\u001b[43mqualified_name\u001b[49m\u001b[43m,\u001b[49m\u001b[43m \u001b[49m\u001b[43mast\u001b[49m\u001b[43m,\u001b[49m\u001b[43m \u001b[49m\u001b[43m_rcb\u001b[49m\u001b[43m,\u001b[49m\u001b[43m \u001b[49m\u001b[43mget_default_args\u001b[49m\u001b[43m(\u001b[49m\u001b[43mobj\u001b[49m\u001b[43m)\u001b[49m\n\u001b[1;32m   1397\u001b[0m \u001b[43m\u001b[49m\u001b[43m)\u001b[49m\n\u001b[1;32m   1398\u001b[0m \u001b[38;5;66;03m# Forward docstrings\u001b[39;00m\n\u001b[1;32m   1399\u001b[0m fn\u001b[38;5;241m.\u001b[39m\u001b[38;5;18m__doc__\u001b[39m \u001b[38;5;241m=\u001b[39m obj\u001b[38;5;241m.\u001b[39m\u001b[38;5;18m__doc__\u001b[39m\n",
      "File \u001b[0;32m~/miniforge3/envs/metatensor-models/lib/python3.10/site-packages/torch/jit/annotations.py:191\u001b[0m, in \u001b[0;36mcheck_fn\u001b[0;34m(fn, loc)\u001b[0m\n\u001b[1;32m    189\u001b[0m py_ast \u001b[38;5;241m=\u001b[39m ast\u001b[38;5;241m.\u001b[39mparse(source)\n\u001b[1;32m    190\u001b[0m \u001b[38;5;28;01mif\u001b[39;00m \u001b[38;5;28mlen\u001b[39m(py_ast\u001b[38;5;241m.\u001b[39mbody) \u001b[38;5;241m==\u001b[39m \u001b[38;5;241m1\u001b[39m \u001b[38;5;129;01mand\u001b[39;00m \u001b[38;5;28misinstance\u001b[39m(py_ast\u001b[38;5;241m.\u001b[39mbody[\u001b[38;5;241m0\u001b[39m], ast\u001b[38;5;241m.\u001b[39mClassDef):\n\u001b[0;32m--> 191\u001b[0m     \u001b[38;5;28;01mraise\u001b[39;00m torch\u001b[38;5;241m.\u001b[39mjit\u001b[38;5;241m.\u001b[39mfrontend\u001b[38;5;241m.\u001b[39mFrontendError(\n\u001b[1;32m    192\u001b[0m         loc,\n\u001b[1;32m    193\u001b[0m         \u001b[38;5;124mf\u001b[39m\u001b[38;5;124m\"\u001b[39m\u001b[38;5;124mCannot instantiate class \u001b[39m\u001b[38;5;124m'\u001b[39m\u001b[38;5;132;01m{\u001b[39;00mpy_ast\u001b[38;5;241m.\u001b[39mbody[\u001b[38;5;241m0\u001b[39m]\u001b[38;5;241m.\u001b[39mname\u001b[38;5;132;01m}\u001b[39;00m\u001b[38;5;124m'\u001b[39m\u001b[38;5;124m in a script function\u001b[39m\u001b[38;5;124m\"\u001b[39m,\n\u001b[1;32m    194\u001b[0m     )\n\u001b[1;32m    195\u001b[0m \u001b[38;5;28;01mif\u001b[39;00m \u001b[38;5;28mlen\u001b[39m(py_ast\u001b[38;5;241m.\u001b[39mbody) \u001b[38;5;241m!=\u001b[39m \u001b[38;5;241m1\u001b[39m \u001b[38;5;129;01mor\u001b[39;00m \u001b[38;5;129;01mnot\u001b[39;00m \u001b[38;5;28misinstance\u001b[39m(py_ast\u001b[38;5;241m.\u001b[39mbody[\u001b[38;5;241m0\u001b[39m], ast\u001b[38;5;241m.\u001b[39mFunctionDef):\n\u001b[1;32m    196\u001b[0m     \u001b[38;5;28;01mraise\u001b[39;00m torch\u001b[38;5;241m.\u001b[39mjit\u001b[38;5;241m.\u001b[39mfrontend\u001b[38;5;241m.\u001b[39mFrontendError(\n\u001b[1;32m    197\u001b[0m         loc, \u001b[38;5;124m\"\u001b[39m\u001b[38;5;124mExpected a single top-level function\u001b[39m\u001b[38;5;124m\"\u001b[39m\n\u001b[1;32m    198\u001b[0m     )\n",
      "\u001b[0;31mFrontendError\u001b[0m: Cannot instantiate class 'NeighborList' in a script function:\n  File \"/var/folders/0v/zgrhvkh12xz59z8f0vwvj86c0000gn/T/ipykernel_42824/109602194.py\", line 2\ndef test_rascaline_nl_torch_script():\n    nl_calculator = NeighborList(\n                    ~~~~~~~~~~~~ <--- HERE\n            cutoff=5.0, full_neighbor_list=True\n    )\n"
     ]
    }
   ],
   "source": [
    "torch.jit.script(test_rascaline_nl_torch_script)"
   ]
  },
  {
   "cell_type": "code",
   "execution_count": null,
   "metadata": {},
   "outputs": [],
   "source": [
    "DATASET_PATH = \"examples/alchemical_model/hea_samples_bulk.xyz\"\n",
    "random.seed(0)\n",
    "np.random.seed(0)\n",
    "torch.manual_seed(0)\n",
    "\n",
    "structures = read_structures(DATASET_PATH)\n",
    "\n",
    "nl_options = NeighborsListOptions(model_cutoff=5.0, full_list=True)\n",
    "nls = get_rascaline_neighbors_list(structures, nl_options)\n",
    "for structure, nl in zip(structures, nls):\n",
    "    structure.add_neighbors_list(nl_options, nl)\n",
    "\n",
    "conf = {\n",
    "    \"energy\": {\n",
    "        \"quantity\": \"energy\",\n",
    "        \"read_from\": DATASET_PATH,\n",
    "        \"file_format\": \".xyz\",\n",
    "        \"key\": \"energy\",\n",
    "        \"forces\": False,\n",
    "        \"stress\": False,\n",
    "        \"virial\": False,\n",
    "    }\n",
    "}\n",
    "targets = read_targets(OmegaConf.create(conf))\n",
    "dataset = Dataset(structure=structures, energy=targets[\"energy\"])"
   ]
  },
  {
   "cell_type": "code",
   "execution_count": 13,
   "metadata": {},
   "outputs": [
    {
     "ename": "ValueError",
     "evalue": "Index 100 not in dataset",
     "output_type": "error",
     "traceback": [
      "\u001b[0;31m---------------------------------------------------------------------------\u001b[0m",
      "\u001b[0;31mValueError\u001b[0m                                Traceback (most recent call last)",
      "Cell \u001b[0;32mIn[13], line 1\u001b[0m\n\u001b[0;32m----> 1\u001b[0m \u001b[38;5;28;01mfor\u001b[39;00m item \u001b[38;5;129;01min\u001b[39;00m dataset:\n\u001b[1;32m      2\u001b[0m     \u001b[38;5;28;01mpass\u001b[39;00m\n",
      "File \u001b[0;32m~/miniforge3/envs/metatensor-models/lib/python3.10/site-packages/metatensor/learn/data/dataset.py:126\u001b[0m, in \u001b[0;36mDataset.__getitem__\u001b[0;34m(self, idx)\u001b[0m\n\u001b[1;32m    117\u001b[0m \u001b[38;5;250m\u001b[39m\u001b[38;5;124;03m\"\"\"\u001b[39;00m\n\u001b[1;32m    118\u001b[0m \u001b[38;5;124;03mReturns the data for each field corresponding to the internal index\u001b[39;00m\n\u001b[1;32m    119\u001b[0m \u001b[38;5;124;03m`idx`.\u001b[39;00m\n\u001b[0;32m   (...)\u001b[0m\n\u001b[1;32m    123\u001b[0m \u001b[38;5;124;03mupon class initialization.\u001b[39;00m\n\u001b[1;32m    124\u001b[0m \u001b[38;5;124;03m\"\"\"\u001b[39;00m\n\u001b[1;32m    125\u001b[0m \u001b[38;5;28;01mif\u001b[39;00m idx \u001b[38;5;129;01mnot\u001b[39;00m \u001b[38;5;129;01min\u001b[39;00m \u001b[38;5;28mself\u001b[39m\u001b[38;5;241m.\u001b[39m_indices:\n\u001b[0;32m--> 126\u001b[0m     \u001b[38;5;28;01mraise\u001b[39;00m \u001b[38;5;167;01mValueError\u001b[39;00m(\u001b[38;5;124mf\u001b[39m\u001b[38;5;124m\"\u001b[39m\u001b[38;5;124mIndex \u001b[39m\u001b[38;5;132;01m{\u001b[39;00midx\u001b[38;5;132;01m}\u001b[39;00m\u001b[38;5;124m not in dataset\u001b[39m\u001b[38;5;124m\"\u001b[39m)\n\u001b[1;32m    127\u001b[0m names \u001b[38;5;241m=\u001b[39m \u001b[38;5;28mself\u001b[39m\u001b[38;5;241m.\u001b[39m_field_names\n\u001b[1;32m    128\u001b[0m sample_data \u001b[38;5;241m=\u001b[39m []\n",
      "\u001b[0;31mValueError\u001b[0m: Index 100 not in dataset"
     ]
    }
   ],
   "source": [
    "for item in dataset:\n",
    "    pass"
   ]
  },
  {
   "cell_type": "code",
   "execution_count": 9,
   "metadata": {},
   "outputs": [
    {
     "data": {
      "text/plain": [
       "100"
      ]
     },
     "execution_count": 9,
     "metadata": {},
     "output_type": "execute_result"
    }
   ],
   "source": [
    "len(dataset)"
   ]
  },
  {
   "cell_type": "code",
   "execution_count": 10,
   "metadata": {},
   "outputs": [
    {
     "data": {
      "text/plain": [
       "Sample(structure=System with 48 atoms, periodic cell: [7.43546, 0, 0, 0, 7.43546, 0, 0, 0, 11.1532])"
      ]
     },
     "execution_count": 10,
     "metadata": {},
     "output_type": "execute_result"
    }
   ],
   "source": [
    "dataset[]"
   ]
  },
  {
   "cell_type": "code",
   "execution_count": 8,
   "metadata": {},
   "outputs": [
    {
     "data": {
      "text/plain": [
       "100"
      ]
     },
     "execution_count": 8,
     "metadata": {},
     "output_type": "execute_result"
    }
   ],
   "source": [
    "dataset._size"
   ]
  },
  {
   "cell_type": "code",
   "execution_count": 4,
   "metadata": {},
   "outputs": [
    {
     "ename": "ValueError",
     "evalue": "Index 100 not in dataset",
     "output_type": "error",
     "traceback": [
      "\u001b[0;31m---------------------------------------------------------------------------\u001b[0m",
      "\u001b[0;31mValueError\u001b[0m                                Traceback (most recent call last)",
      "Cell \u001b[0;32mIn[4], line 5\u001b[0m\n\u001b[1;32m      2\u001b[0m structures \u001b[38;5;241m=\u001b[39m read_structures(DATASET_PATH)\n\u001b[1;32m      3\u001b[0m dataset \u001b[38;5;241m=\u001b[39m Dataset(structure\u001b[38;5;241m=\u001b[39mstructures, size\u001b[38;5;241m=\u001b[39m\u001b[38;5;28mlen\u001b[39m(structures))\n\u001b[0;32m----> 5\u001b[0m \u001b[38;5;28;01mfor\u001b[39;00m item \u001b[38;5;129;01min\u001b[39;00m dataset:\n\u001b[1;32m      6\u001b[0m     \u001b[38;5;28;01mpass\u001b[39;00m\n",
      "File \u001b[0;32m~/miniforge3/envs/metatensor-models/lib/python3.10/site-packages/metatensor/learn/data/dataset.py:126\u001b[0m, in \u001b[0;36mDataset.__getitem__\u001b[0;34m(self, idx)\u001b[0m\n\u001b[1;32m    117\u001b[0m \u001b[38;5;250m\u001b[39m\u001b[38;5;124;03m\"\"\"\u001b[39;00m\n\u001b[1;32m    118\u001b[0m \u001b[38;5;124;03mReturns the data for each field corresponding to the internal index\u001b[39;00m\n\u001b[1;32m    119\u001b[0m \u001b[38;5;124;03m`idx`.\u001b[39;00m\n\u001b[0;32m   (...)\u001b[0m\n\u001b[1;32m    123\u001b[0m \u001b[38;5;124;03mupon class initialization.\u001b[39;00m\n\u001b[1;32m    124\u001b[0m \u001b[38;5;124;03m\"\"\"\u001b[39;00m\n\u001b[1;32m    125\u001b[0m \u001b[38;5;28;01mif\u001b[39;00m idx \u001b[38;5;129;01mnot\u001b[39;00m \u001b[38;5;129;01min\u001b[39;00m \u001b[38;5;28mself\u001b[39m\u001b[38;5;241m.\u001b[39m_indices:\n\u001b[0;32m--> 126\u001b[0m     \u001b[38;5;28;01mraise\u001b[39;00m \u001b[38;5;167;01mValueError\u001b[39;00m(\u001b[38;5;124mf\u001b[39m\u001b[38;5;124m\"\u001b[39m\u001b[38;5;124mIndex \u001b[39m\u001b[38;5;132;01m{\u001b[39;00midx\u001b[38;5;132;01m}\u001b[39;00m\u001b[38;5;124m not in dataset\u001b[39m\u001b[38;5;124m\"\u001b[39m)\n\u001b[1;32m    127\u001b[0m names \u001b[38;5;241m=\u001b[39m \u001b[38;5;28mself\u001b[39m\u001b[38;5;241m.\u001b[39m_field_names\n\u001b[1;32m    128\u001b[0m sample_data \u001b[38;5;241m=\u001b[39m []\n",
      "\u001b[0;31mValueError\u001b[0m: Index 100 not in dataset"
     ]
    }
   ],
   "source": [
    "DATASET_PATH = \"examples/alchemical_model/hea_samples_bulk.xyz\"\n",
    "structures = read_structures(DATASET_PATH)\n",
    "dataset = Dataset(structure=structures, size=len(structures))\n",
    "\n",
    "for item in dataset:\n",
    "    pass"
   ]
  },
  {
   "cell_type": "code",
   "execution_count": null,
   "metadata": {},
   "outputs": [],
   "source": [
    "for "
   ]
  },
  {
   "cell_type": "code",
   "execution_count": 13,
   "metadata": {},
   "outputs": [
    {
     "ename": "RuntimeError",
     "evalue": "Unknown keyword argument 'max_neighbors' for operator '__init__'. Schema: __init__(__torch__.torch.classes.metatensor.NeighborsListOptions _0, float model_cutoff, bool full_list, str requestor=\"\") -> NoneType _0",
     "output_type": "error",
     "traceback": [
      "\u001b[0;31m---------------------------------------------------------------------------\u001b[0m",
      "\u001b[0;31mRuntimeError\u001b[0m                              Traceback (most recent call last)",
      "Cell \u001b[0;32mIn[13], line 1\u001b[0m\n\u001b[0;32m----> 1\u001b[0m \u001b[43mNeighborsListOptions\u001b[49m\u001b[43m(\u001b[49m\u001b[43mmodel_cutoff\u001b[49m\u001b[38;5;241;43m=\u001b[39;49m\u001b[38;5;241;43m5.0\u001b[39;49m\u001b[43m,\u001b[49m\u001b[43m \u001b[49m\u001b[43mfull_list\u001b[49m\u001b[38;5;241;43m=\u001b[39;49m\u001b[38;5;28;43;01mTrue\u001b[39;49;00m\u001b[43m,\u001b[49m\u001b[43m \u001b[49m\u001b[43mmax_neighbors\u001b[49m\u001b[38;5;241;43m=\u001b[39;49m\u001b[38;5;241;43m1000\u001b[39;49m\u001b[43m)\u001b[49m\n",
      "\u001b[0;31mRuntimeError\u001b[0m: Unknown keyword argument 'max_neighbors' for operator '__init__'. Schema: __init__(__torch__.torch.classes.metatensor.NeighborsListOptions _0, float model_cutoff, bool full_list, str requestor=\"\") -> NoneType _0"
     ]
    }
   ],
   "source": [
    "NeighborsListOptions(model_cutoff=5.0, full_list=True, )"
   ]
  },
  {
   "cell_type": "code",
   "execution_count": 10,
   "metadata": {},
   "outputs": [
    {
     "data": {
      "text/plain": [
       "System with 48 atoms, periodic cell: [6.70861, 0, 0, 0, 6.70861, 0, 0, 0, 10.0629]"
      ]
     },
     "execution_count": 10,
     "metadata": {},
     "output_type": "execute_result"
    }
   ],
   "source": [
    "item.structure"
   ]
  },
  {
   "cell_type": "code",
   "execution_count": 92,
   "metadata": {},
   "outputs": [],
   "source": [
    "nl_list = get_rascaline_neighbors_list(structures, nl_options)"
   ]
  },
  {
   "cell_type": "code",
   "execution_count": 93,
   "metadata": {},
   "outputs": [],
   "source": [
    "structure = structures[0]\n",
    "nl = nl_list[0]"
   ]
  },
  {
   "cell_type": "code",
   "execution_count": 62,
   "metadata": {},
   "outputs": [],
   "source": [
    "from typing import Union\n",
    "\n",
    "import ase\n",
    "import torch\n",
    "from metatensor.torch.atomistic import NeighborsListOptions, System\n",
    "from metatensor.torch.atomistic.ase_calculator import _compute_ase_neighbors\n",
    "\n",
    "\n",
    "def get_ase_neighbors_list(\n",
    "    structure: Union[ase.Atoms, System],\n",
    "    nl_options: NeighborsListOptions,\n",
    "):\n",
    "    if isinstance(structure, torch.ScriptObject):\n",
    "        structure = ase.Atoms(\n",
    "            numbers=structure.species.numpy(),\n",
    "            positions=structure.positions.detach().numpy(),\n",
    "            cell=structure.cell.detach().numpy(),\n",
    "            pbc=[True, True, True],\n",
    "        )\n",
    "    nl = _compute_ase_neighbors(structure, nl_options)\n",
    "    return nl, nl_options"
   ]
  },
  {
   "cell_type": "code",
   "execution_count": 67,
   "metadata": {},
   "outputs": [],
   "source": [
    "nl_ase = get_ase_neighbors_list(atoms_list[0], nl_options)"
   ]
  },
  {
   "cell_type": "code",
   "execution_count": 94,
   "metadata": {},
   "outputs": [
    {
     "data": {
      "text/plain": [
       "tensor([[0]], dtype=torch.int32)"
      ]
     },
     "execution_count": 94,
     "metadata": {},
     "output_type": "execute_result"
    }
   ],
   "source": [
    "nl_ase[0].properties.values"
   ]
  },
  {
   "cell_type": "code",
   "execution_count": 95,
   "metadata": {},
   "outputs": [
    {
     "data": {
      "text/plain": [
       "tensor([[0]], dtype=torch.int32)"
      ]
     },
     "execution_count": 95,
     "metadata": {},
     "output_type": "execute_result"
    }
   ],
   "source": [
    "nl.properties.values"
   ]
  },
  {
   "cell_type": "code",
   "execution_count": 96,
   "metadata": {},
   "outputs": [],
   "source": [
    "structure.add_neighbors_list(nl_options, nl)"
   ]
  },
  {
   "cell_type": "code",
   "execution_count": 3,
   "metadata": {},
   "outputs": [],
   "source": [
    "\n",
    "\n",
    "for atoms, structure in zip(atoms_list, structures):\n",
    "    nl, nl_options = get_primitive_neighbors_list(\n",
    "        atoms, model_cutoff=5.0, full_list=True\n",
    "    )\n",
    "    structure.add_neighbors_list(nl_options, nl)\n",
    "\n",
    "conf = {\n",
    "    \"energy\": {\n",
    "        \"quantity\": \"energy\",\n",
    "        \"read_from\": DATASET_PATH,\n",
    "        \"file_format\": \".xyz\",\n",
    "        \"key\": \"energy\",\n",
    "        \"forces\": False,\n",
    "        \"stress\": False,\n",
    "        \"virial\": False,\n",
    "    }\n",
    "}\n",
    "\n",
    "targets = read_targets(OmegaConf.create(conf))\n",
    "dataset = Dataset(structure=structures, U0=targets[\"U0\"])"
   ]
  },
  {
   "cell_type": "code",
   "execution_count": null,
   "metadata": {},
   "outputs": [],
   "source": []
  }
 ],
 "metadata": {
  "kernelspec": {
   "display_name": "metatensor-models",
   "language": "python",
   "name": "python3"
  },
  "language_info": {
   "codemirror_mode": {
    "name": "ipython",
    "version": 3
   },
   "file_extension": ".py",
   "mimetype": "text/x-python",
   "name": "python",
   "nbconvert_exporter": "python",
   "pygments_lexer": "ipython3",
   "version": "3.10.13"
  }
 },
 "nbformat": 4,
 "nbformat_minor": 2
}
