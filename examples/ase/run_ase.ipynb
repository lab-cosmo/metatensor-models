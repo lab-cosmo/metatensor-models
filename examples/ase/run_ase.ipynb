{
 "cells": [
  {
   "cell_type": "code",
   "execution_count": 1,
   "metadata": {},
   "outputs": [],
   "source": [
    "# Import tools to run the simulation\n",
    "import ase.build\n",
    "import ase.md\n",
    "import ase.md.velocitydistribution\n",
    "import ase.units\n",
    "\n",
    "# Integration with ASE calculator for metatensor atomistic models\n",
    "from metatensor.torch.atomistic.ase_calculator import MetatensorCalculator\n",
    "\n",
    "# The SOAP-BPNN model contains compiled extensions from rascaline.torch\n",
    "import rascaline.torch"
   ]
  },
  {
   "cell_type": "code",
   "execution_count": 5,
   "metadata": {},
   "outputs": [
    {
     "data": {
      "text/plain": [
       "True"
      ]
     },
     "execution_count": 5,
     "metadata": {},
     "output_type": "execute_result"
    }
   ],
   "source": [
    "# Initial positions (reading them from a file):\n",
    "atoms = ase.io.read(\"../../tests/resources/ethanol_reduced_100.xyz\")\n",
    "\n",
    "# Initialize the velocities:\n",
    "ase.md.velocitydistribution.MaxwellBoltzmannDistribution(atoms, temperature_K=300)\n",
    "\n",
    "# Load the model and register it as the energy calculator for these ``atoms``:\n",
    "atoms.calc = MetatensorCalculator(\"exported-model.pt\")\n",
    "\n",
    "# Define the integrator:\n",
    "integrator = ase.md.Langevin(\n",
    "    atoms,\n",
    "    timestep=1.0 * ase.units.fs,\n",
    "    temperature_K=300,\n",
    "    friction=0.1 / ase.units.fs,\n",
    ")\n",
    "\n",
    "# Run the simulation:\n",
    "integrator.run(10)"
   ]
  },
  {
   "cell_type": "code",
   "execution_count": 4,
   "metadata": {},
   "outputs": [
    {
     "data": {
      "text/plain": [
       "True"
      ]
     },
     "execution_count": 4,
     "metadata": {},
     "output_type": "execute_result"
    }
   ],
   "source": [
    "potential_energy = []\n",
    "kinetic_energy = []\n",
    "total_energy = []\n",
    "temperature = []\n",
    "trajectory = []\n",
    "\n",
    "for step in range(100):\n",
    "    # run a single simulation step\n",
    "    integrator.run(1)\n",
    "\n",
    "    # collect data about the simulation\n",
    "    potential_energy.append(atoms.get_potential_energy())\n",
    "    kinetic_energy.append(atoms.get_kinetic_energy())\n",
    "    total_energy.append(atoms.get_total_energy())\n",
    "    temperature.append(atoms.get_temperature())\n",
    "    trajectory.append(atoms.copy())"
   ]
  },
  {
   "cell_type": "code",
   "execution_count": null,
   "metadata": {},
   "outputs": [],
   "source": []
  }
 ],
 "metadata": {
  "kernelspec": {
   "display_name": "Python 3",
   "language": "python",
   "name": "python3"
  },
  "language_info": {
   "codemirror_mode": {
    "name": "ipython",
    "version": 3
   },
   "file_extension": ".py",
   "mimetype": "text/x-python",
   "name": "python",
   "nbconvert_exporter": "python",
   "pygments_lexer": "ipython3",
   "version": "3.8.10"
  }
 },
 "nbformat": 4,
 "nbformat_minor": 2
}
